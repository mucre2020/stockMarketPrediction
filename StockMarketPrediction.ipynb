{
 "cells": [
  {
   "cell_type": "markdown",
   "metadata": {},
   "source": [
    "NAMES: MUPENZI CLEMENT\n",
    "ID: 100771\n",
    "PROJECT: STOCK MARKET PREDICTION 'META'"
   ]
  },
  {
   "cell_type": "markdown",
   "metadata": {},
   "source": [
    "Import libraries"
   ]
  },
  {
   "cell_type": "code",
   "execution_count": 7,
   "metadata": {},
   "outputs": [
    {
     "name": "stdout",
     "output_type": "stream",
     "text": [
      "Requirement already satisfied: yfinance in c:\\users\\cmupenzi\\appdata\\local\\anaconda3\\lib\\site-packages (0.2.33)\n",
      "Requirement already satisfied: pandas>=1.3.0 in c:\\users\\cmupenzi\\appdata\\local\\anaconda3\\lib\\site-packages (from yfinance) (1.5.3)\n",
      "Requirement already satisfied: numpy>=1.16.5 in c:\\users\\cmupenzi\\appdata\\local\\anaconda3\\lib\\site-packages (from yfinance) (1.24.3)\n",
      "Requirement already satisfied: requests>=2.31 in c:\\users\\cmupenzi\\appdata\\local\\anaconda3\\lib\\site-packages (from yfinance) (2.31.0)\n",
      "Requirement already satisfied: multitasking>=0.0.7 in c:\\users\\cmupenzi\\appdata\\local\\anaconda3\\lib\\site-packages (from yfinance) (0.0.11)\n",
      "Requirement already satisfied: lxml>=4.9.1 in c:\\users\\cmupenzi\\appdata\\local\\anaconda3\\lib\\site-packages (from yfinance) (4.9.2)\n",
      "Requirement already satisfied: appdirs>=1.4.4 in c:\\users\\cmupenzi\\appdata\\local\\anaconda3\\lib\\site-packages (from yfinance) (1.4.4)\n",
      "Requirement already satisfied: pytz>=2022.5 in c:\\users\\cmupenzi\\appdata\\local\\anaconda3\\lib\\site-packages (from yfinance) (2022.7)\n",
      "Requirement already satisfied: frozendict>=2.3.4 in c:\\users\\cmupenzi\\appdata\\local\\anaconda3\\lib\\site-packages (from yfinance) (2.3.10)\n",
      "Requirement already satisfied: peewee>=3.16.2 in c:\\users\\cmupenzi\\appdata\\local\\anaconda3\\lib\\site-packages (from yfinance) (3.17.0)\n",
      "Requirement already satisfied: beautifulsoup4>=4.11.1 in c:\\users\\cmupenzi\\appdata\\local\\anaconda3\\lib\\site-packages (from yfinance) (4.12.2)\n",
      "Requirement already satisfied: html5lib>=1.1 in c:\\users\\cmupenzi\\appdata\\local\\anaconda3\\lib\\site-packages (from yfinance) (1.1)\n",
      "Requirement already satisfied: soupsieve>1.2 in c:\\users\\cmupenzi\\appdata\\local\\anaconda3\\lib\\site-packages (from beautifulsoup4>=4.11.1->yfinance) (2.4)\n",
      "Requirement already satisfied: six>=1.9 in c:\\users\\cmupenzi\\appdata\\local\\anaconda3\\lib\\site-packages (from html5lib>=1.1->yfinance) (1.16.0)\n",
      "Requirement already satisfied: webencodings in c:\\users\\cmupenzi\\appdata\\local\\anaconda3\\lib\\site-packages (from html5lib>=1.1->yfinance) (0.5.1)\n",
      "Requirement already satisfied: python-dateutil>=2.8.1 in c:\\users\\cmupenzi\\appdata\\local\\anaconda3\\lib\\site-packages (from pandas>=1.3.0->yfinance) (2.8.2)\n",
      "Requirement already satisfied: charset-normalizer<4,>=2 in c:\\users\\cmupenzi\\appdata\\local\\anaconda3\\lib\\site-packages (from requests>=2.31->yfinance) (2.0.4)\n",
      "Requirement already satisfied: idna<4,>=2.5 in c:\\users\\cmupenzi\\appdata\\local\\anaconda3\\lib\\site-packages (from requests>=2.31->yfinance) (3.4)\n",
      "Requirement already satisfied: urllib3<3,>=1.21.1 in c:\\users\\cmupenzi\\appdata\\local\\anaconda3\\lib\\site-packages (from requests>=2.31->yfinance) (1.26.16)\n",
      "Requirement already satisfied: certifi>=2017.4.17 in c:\\users\\cmupenzi\\appdata\\local\\anaconda3\\lib\\site-packages (from requests>=2.31->yfinance) (2023.5.7)\n",
      "Note: you may need to restart the kernel to use updated packages.\n"
     ]
    }
   ],
   "source": [
    "pip install yfinance\n"
   ]
  },
  {
   "cell_type": "code",
   "execution_count": 2,
   "metadata": {},
   "outputs": [
    {
     "name": "stdout",
     "output_type": "stream",
     "text": [
      "WARNING:tensorflow:From c:\\Users\\cmupenzi\\AppData\\Local\\anaconda3\\Lib\\site-packages\\keras\\src\\losses.py:2976: The name tf.losses.sparse_softmax_cross_entropy is deprecated. Please use tf.compat.v1.losses.sparse_softmax_cross_entropy instead.\n",
      "\n"
     ]
    }
   ],
   "source": [
    "import numpy as np\n",
    "import pandas as pd\n",
    "import matplotlib.pyplot as plt \n",
    "import yfinance as yf \n",
    "\n",
    "from keras.layers import Dense, Dropout, LSTM\n",
    "from keras.models import Sequential"
   ]
  },
  {
   "cell_type": "markdown",
   "metadata": {},
   "source": [
    "lets download our dataset using yahoo finance library \n",
    "our date range is for 11 years"
   ]
  },
  {
   "cell_type": "code",
   "execution_count": 8,
   "metadata": {},
   "outputs": [
    {
     "name": "stdout",
     "output_type": "stream",
     "text": [
      "[*********************100%%**********************]  1 of 1 completed\n"
     ]
    }
   ],
   "source": [
    "start = '2012-01-01'\n",
    "end = '2023-12-19'\n",
    "stock = 'META'\n",
    "\n",
    "data = yf.download(stock, start, end)"
   ]
  },
  {
   "cell_type": "markdown",
   "metadata": {},
   "source": [
    "preview our dataset"
   ]
  },
  {
   "cell_type": "code",
   "execution_count": 9,
   "metadata": {},
   "outputs": [
    {
     "data": {
      "text/html": [
       "<div>\n",
       "<style scoped>\n",
       "    .dataframe tbody tr th:only-of-type {\n",
       "        vertical-align: middle;\n",
       "    }\n",
       "\n",
       "    .dataframe tbody tr th {\n",
       "        vertical-align: top;\n",
       "    }\n",
       "\n",
       "    .dataframe thead th {\n",
       "        text-align: right;\n",
       "    }\n",
       "</style>\n",
       "<table border=\"1\" class=\"dataframe\">\n",
       "  <thead>\n",
       "    <tr style=\"text-align: right;\">\n",
       "      <th></th>\n",
       "      <th>Open</th>\n",
       "      <th>High</th>\n",
       "      <th>Low</th>\n",
       "      <th>Close</th>\n",
       "      <th>Adj Close</th>\n",
       "      <th>Volume</th>\n",
       "    </tr>\n",
       "    <tr>\n",
       "      <th>Date</th>\n",
       "      <th></th>\n",
       "      <th></th>\n",
       "      <th></th>\n",
       "      <th></th>\n",
       "      <th></th>\n",
       "      <th></th>\n",
       "    </tr>\n",
       "  </thead>\n",
       "  <tbody>\n",
       "    <tr>\n",
       "      <th>2012-05-18</th>\n",
       "      <td>42.049999</td>\n",
       "      <td>45.000000</td>\n",
       "      <td>38.000000</td>\n",
       "      <td>38.230000</td>\n",
       "      <td>38.230000</td>\n",
       "      <td>573576400</td>\n",
       "    </tr>\n",
       "    <tr>\n",
       "      <th>2012-05-21</th>\n",
       "      <td>36.529999</td>\n",
       "      <td>36.660000</td>\n",
       "      <td>33.000000</td>\n",
       "      <td>34.029999</td>\n",
       "      <td>34.029999</td>\n",
       "      <td>168192700</td>\n",
       "    </tr>\n",
       "    <tr>\n",
       "      <th>2012-05-22</th>\n",
       "      <td>32.610001</td>\n",
       "      <td>33.590000</td>\n",
       "      <td>30.940001</td>\n",
       "      <td>31.000000</td>\n",
       "      <td>31.000000</td>\n",
       "      <td>101786600</td>\n",
       "    </tr>\n",
       "    <tr>\n",
       "      <th>2012-05-23</th>\n",
       "      <td>31.370001</td>\n",
       "      <td>32.500000</td>\n",
       "      <td>31.360001</td>\n",
       "      <td>32.000000</td>\n",
       "      <td>32.000000</td>\n",
       "      <td>73600000</td>\n",
       "    </tr>\n",
       "    <tr>\n",
       "      <th>2012-05-24</th>\n",
       "      <td>32.950001</td>\n",
       "      <td>33.209999</td>\n",
       "      <td>31.770000</td>\n",
       "      <td>33.029999</td>\n",
       "      <td>33.029999</td>\n",
       "      <td>50237200</td>\n",
       "    </tr>\n",
       "    <tr>\n",
       "      <th>...</th>\n",
       "      <td>...</td>\n",
       "      <td>...</td>\n",
       "      <td>...</td>\n",
       "      <td>...</td>\n",
       "      <td>...</td>\n",
       "      <td>...</td>\n",
       "    </tr>\n",
       "    <tr>\n",
       "      <th>2023-12-12</th>\n",
       "      <td>324.600006</td>\n",
       "      <td>334.470001</td>\n",
       "      <td>324.559998</td>\n",
       "      <td>334.220001</td>\n",
       "      <td>334.220001</td>\n",
       "      <td>18485500</td>\n",
       "    </tr>\n",
       "    <tr>\n",
       "      <th>2023-12-13</th>\n",
       "      <td>333.929993</td>\n",
       "      <td>338.369995</td>\n",
       "      <td>332.640015</td>\n",
       "      <td>334.739990</td>\n",
       "      <td>334.739990</td>\n",
       "      <td>16353300</td>\n",
       "    </tr>\n",
       "    <tr>\n",
       "      <th>2023-12-14</th>\n",
       "      <td>333.850006</td>\n",
       "      <td>334.700012</td>\n",
       "      <td>328.640015</td>\n",
       "      <td>333.170013</td>\n",
       "      <td>333.170013</td>\n",
       "      <td>19607300</td>\n",
       "    </tr>\n",
       "    <tr>\n",
       "      <th>2023-12-15</th>\n",
       "      <td>331.989990</td>\n",
       "      <td>338.660004</td>\n",
       "      <td>331.220001</td>\n",
       "      <td>334.920013</td>\n",
       "      <td>334.920013</td>\n",
       "      <td>30001600</td>\n",
       "    </tr>\n",
       "    <tr>\n",
       "      <th>2023-12-18</th>\n",
       "      <td>337.480011</td>\n",
       "      <td>347.559998</td>\n",
       "      <td>337.019989</td>\n",
       "      <td>344.619995</td>\n",
       "      <td>344.619995</td>\n",
       "      <td>18993900</td>\n",
       "    </tr>\n",
       "  </tbody>\n",
       "</table>\n",
       "<p>2915 rows × 6 columns</p>\n",
       "</div>"
      ],
      "text/plain": [
       "                  Open        High         Low       Close   Adj Close  \\\n",
       "Date                                                                     \n",
       "2012-05-18   42.049999   45.000000   38.000000   38.230000   38.230000   \n",
       "2012-05-21   36.529999   36.660000   33.000000   34.029999   34.029999   \n",
       "2012-05-22   32.610001   33.590000   30.940001   31.000000   31.000000   \n",
       "2012-05-23   31.370001   32.500000   31.360001   32.000000   32.000000   \n",
       "2012-05-24   32.950001   33.209999   31.770000   33.029999   33.029999   \n",
       "...                ...         ...         ...         ...         ...   \n",
       "2023-12-12  324.600006  334.470001  324.559998  334.220001  334.220001   \n",
       "2023-12-13  333.929993  338.369995  332.640015  334.739990  334.739990   \n",
       "2023-12-14  333.850006  334.700012  328.640015  333.170013  333.170013   \n",
       "2023-12-15  331.989990  338.660004  331.220001  334.920013  334.920013   \n",
       "2023-12-18  337.480011  347.559998  337.019989  344.619995  344.619995   \n",
       "\n",
       "               Volume  \n",
       "Date                   \n",
       "2012-05-18  573576400  \n",
       "2012-05-21  168192700  \n",
       "2012-05-22  101786600  \n",
       "2012-05-23   73600000  \n",
       "2012-05-24   50237200  \n",
       "...               ...  \n",
       "2023-12-12   18485500  \n",
       "2023-12-13   16353300  \n",
       "2023-12-14   19607300  \n",
       "2023-12-15   30001600  \n",
       "2023-12-18   18993900  \n",
       "\n",
       "[2915 rows x 6 columns]"
      ]
     },
     "execution_count": 9,
     "metadata": {},
     "output_type": "execute_result"
    }
   ],
   "source": [
    "data"
   ]
  },
  {
   "cell_type": "markdown",
   "metadata": {},
   "source": [
    "Step 1. Data Pre Processing"
   ]
  },
  {
   "cell_type": "markdown",
   "metadata": {},
   "source": [
    "lets give our dataset indexes"
   ]
  },
  {
   "cell_type": "code",
   "execution_count": 10,
   "metadata": {},
   "outputs": [
    {
     "data": {
      "text/html": [
       "<div>\n",
       "<style scoped>\n",
       "    .dataframe tbody tr th:only-of-type {\n",
       "        vertical-align: middle;\n",
       "    }\n",
       "\n",
       "    .dataframe tbody tr th {\n",
       "        vertical-align: top;\n",
       "    }\n",
       "\n",
       "    .dataframe thead th {\n",
       "        text-align: right;\n",
       "    }\n",
       "</style>\n",
       "<table border=\"1\" class=\"dataframe\">\n",
       "  <thead>\n",
       "    <tr style=\"text-align: right;\">\n",
       "      <th></th>\n",
       "      <th>Date</th>\n",
       "      <th>Open</th>\n",
       "      <th>High</th>\n",
       "      <th>Low</th>\n",
       "      <th>Close</th>\n",
       "      <th>Adj Close</th>\n",
       "      <th>Volume</th>\n",
       "    </tr>\n",
       "  </thead>\n",
       "  <tbody>\n",
       "    <tr>\n",
       "      <th>0</th>\n",
       "      <td>2012-05-18</td>\n",
       "      <td>42.049999</td>\n",
       "      <td>45.000000</td>\n",
       "      <td>38.000000</td>\n",
       "      <td>38.230000</td>\n",
       "      <td>38.230000</td>\n",
       "      <td>573576400</td>\n",
       "    </tr>\n",
       "    <tr>\n",
       "      <th>1</th>\n",
       "      <td>2012-05-21</td>\n",
       "      <td>36.529999</td>\n",
       "      <td>36.660000</td>\n",
       "      <td>33.000000</td>\n",
       "      <td>34.029999</td>\n",
       "      <td>34.029999</td>\n",
       "      <td>168192700</td>\n",
       "    </tr>\n",
       "    <tr>\n",
       "      <th>2</th>\n",
       "      <td>2012-05-22</td>\n",
       "      <td>32.610001</td>\n",
       "      <td>33.590000</td>\n",
       "      <td>30.940001</td>\n",
       "      <td>31.000000</td>\n",
       "      <td>31.000000</td>\n",
       "      <td>101786600</td>\n",
       "    </tr>\n",
       "    <tr>\n",
       "      <th>3</th>\n",
       "      <td>2012-05-23</td>\n",
       "      <td>31.370001</td>\n",
       "      <td>32.500000</td>\n",
       "      <td>31.360001</td>\n",
       "      <td>32.000000</td>\n",
       "      <td>32.000000</td>\n",
       "      <td>73600000</td>\n",
       "    </tr>\n",
       "    <tr>\n",
       "      <th>4</th>\n",
       "      <td>2012-05-24</td>\n",
       "      <td>32.950001</td>\n",
       "      <td>33.209999</td>\n",
       "      <td>31.770000</td>\n",
       "      <td>33.029999</td>\n",
       "      <td>33.029999</td>\n",
       "      <td>50237200</td>\n",
       "    </tr>\n",
       "    <tr>\n",
       "      <th>...</th>\n",
       "      <td>...</td>\n",
       "      <td>...</td>\n",
       "      <td>...</td>\n",
       "      <td>...</td>\n",
       "      <td>...</td>\n",
       "      <td>...</td>\n",
       "      <td>...</td>\n",
       "    </tr>\n",
       "    <tr>\n",
       "      <th>2910</th>\n",
       "      <td>2023-12-12</td>\n",
       "      <td>324.600006</td>\n",
       "      <td>334.470001</td>\n",
       "      <td>324.559998</td>\n",
       "      <td>334.220001</td>\n",
       "      <td>334.220001</td>\n",
       "      <td>18485500</td>\n",
       "    </tr>\n",
       "    <tr>\n",
       "      <th>2911</th>\n",
       "      <td>2023-12-13</td>\n",
       "      <td>333.929993</td>\n",
       "      <td>338.369995</td>\n",
       "      <td>332.640015</td>\n",
       "      <td>334.739990</td>\n",
       "      <td>334.739990</td>\n",
       "      <td>16353300</td>\n",
       "    </tr>\n",
       "    <tr>\n",
       "      <th>2912</th>\n",
       "      <td>2023-12-14</td>\n",
       "      <td>333.850006</td>\n",
       "      <td>334.700012</td>\n",
       "      <td>328.640015</td>\n",
       "      <td>333.170013</td>\n",
       "      <td>333.170013</td>\n",
       "      <td>19607300</td>\n",
       "    </tr>\n",
       "    <tr>\n",
       "      <th>2913</th>\n",
       "      <td>2023-12-15</td>\n",
       "      <td>331.989990</td>\n",
       "      <td>338.660004</td>\n",
       "      <td>331.220001</td>\n",
       "      <td>334.920013</td>\n",
       "      <td>334.920013</td>\n",
       "      <td>30001600</td>\n",
       "    </tr>\n",
       "    <tr>\n",
       "      <th>2914</th>\n",
       "      <td>2023-12-18</td>\n",
       "      <td>337.480011</td>\n",
       "      <td>347.559998</td>\n",
       "      <td>337.019989</td>\n",
       "      <td>344.619995</td>\n",
       "      <td>344.619995</td>\n",
       "      <td>18993900</td>\n",
       "    </tr>\n",
       "  </tbody>\n",
       "</table>\n",
       "<p>2915 rows × 7 columns</p>\n",
       "</div>"
      ],
      "text/plain": [
       "           Date        Open        High         Low       Close   Adj Close  \\\n",
       "0    2012-05-18   42.049999   45.000000   38.000000   38.230000   38.230000   \n",
       "1    2012-05-21   36.529999   36.660000   33.000000   34.029999   34.029999   \n",
       "2    2012-05-22   32.610001   33.590000   30.940001   31.000000   31.000000   \n",
       "3    2012-05-23   31.370001   32.500000   31.360001   32.000000   32.000000   \n",
       "4    2012-05-24   32.950001   33.209999   31.770000   33.029999   33.029999   \n",
       "...         ...         ...         ...         ...         ...         ...   \n",
       "2910 2023-12-12  324.600006  334.470001  324.559998  334.220001  334.220001   \n",
       "2911 2023-12-13  333.929993  338.369995  332.640015  334.739990  334.739990   \n",
       "2912 2023-12-14  333.850006  334.700012  328.640015  333.170013  333.170013   \n",
       "2913 2023-12-15  331.989990  338.660004  331.220001  334.920013  334.920013   \n",
       "2914 2023-12-18  337.480011  347.559998  337.019989  344.619995  344.619995   \n",
       "\n",
       "         Volume  \n",
       "0     573576400  \n",
       "1     168192700  \n",
       "2     101786600  \n",
       "3      73600000  \n",
       "4      50237200  \n",
       "...         ...  \n",
       "2910   18485500  \n",
       "2911   16353300  \n",
       "2912   19607300  \n",
       "2913   30001600  \n",
       "2914   18993900  \n",
       "\n",
       "[2915 rows x 7 columns]"
      ]
     },
     "execution_count": 10,
     "metadata": {},
     "output_type": "execute_result"
    }
   ],
   "source": [
    "data.reset_index(inplace=True)\n",
    "data"
   ]
  },
  {
   "cell_type": "code",
   "execution_count": 11,
   "metadata": {},
   "outputs": [
    {
     "data": {
      "text/plain": [
       "Index(['Date', 'Open', 'High', 'Low', 'Close', 'Adj Close', 'Volume'], dtype='object')"
      ]
     },
     "execution_count": 11,
     "metadata": {},
     "output_type": "execute_result"
    }
   ],
   "source": [
    "#Let's see columns of data\n",
    "data.columns"
   ]
  },
  {
   "cell_type": "code",
   "execution_count": 6,
   "metadata": {},
   "outputs": [
    {
     "data": {
      "text/plain": [
       "(2915, 7)"
      ]
     },
     "execution_count": 6,
     "metadata": {},
     "output_type": "execute_result"
    }
   ],
   "source": [
    "#lets check the shape\n",
    "data.shape"
   ]
  },
  {
   "cell_type": "markdown",
   "metadata": {},
   "source": [
    "AS WE CAN SEE WE HAVE (2915) OBSERVATION\n"
   ]
  },
  {
   "cell_type": "code",
   "execution_count": 12,
   "metadata": {},
   "outputs": [
    {
     "name": "stdout",
     "output_type": "stream",
     "text": [
      "<class 'pandas.core.frame.DataFrame'>\n",
      "RangeIndex: 2915 entries, 0 to 2914\n",
      "Data columns (total 7 columns):\n",
      " #   Column     Non-Null Count  Dtype         \n",
      "---  ------     --------------  -----         \n",
      " 0   Date       2915 non-null   datetime64[ns]\n",
      " 1   Open       2915 non-null   float64       \n",
      " 2   High       2915 non-null   float64       \n",
      " 3   Low        2915 non-null   float64       \n",
      " 4   Close      2915 non-null   float64       \n",
      " 5   Adj Close  2915 non-null   float64       \n",
      " 6   Volume     2915 non-null   int64         \n",
      "dtypes: datetime64[ns](1), float64(5), int64(1)\n",
      "memory usage: 159.5 KB\n"
     ]
    }
   ],
   "source": [
    "data.info()"
   ]
  },
  {
   "cell_type": "code",
   "execution_count": 13,
   "metadata": {},
   "outputs": [
    {
     "data": {
      "text/html": [
       "<div>\n",
       "<style scoped>\n",
       "    .dataframe tbody tr th:only-of-type {\n",
       "        vertical-align: middle;\n",
       "    }\n",
       "\n",
       "    .dataframe tbody tr th {\n",
       "        vertical-align: top;\n",
       "    }\n",
       "\n",
       "    .dataframe thead th {\n",
       "        text-align: right;\n",
       "    }\n",
       "</style>\n",
       "<table border=\"1\" class=\"dataframe\">\n",
       "  <thead>\n",
       "    <tr style=\"text-align: right;\">\n",
       "      <th></th>\n",
       "      <th>count</th>\n",
       "      <th>mean</th>\n",
       "      <th>std</th>\n",
       "      <th>min</th>\n",
       "      <th>25%</th>\n",
       "      <th>50%</th>\n",
       "      <th>75%</th>\n",
       "      <th>max</th>\n",
       "    </tr>\n",
       "  </thead>\n",
       "  <tbody>\n",
       "    <tr>\n",
       "      <th>Open</th>\n",
       "      <td>2915.0</td>\n",
       "      <td>1.570802e+02</td>\n",
       "      <td>9.040421e+01</td>\n",
       "      <td>1.808000e+01</td>\n",
       "      <td>8.064000e+01</td>\n",
       "      <td>1.533400e+02</td>\n",
       "      <td>2.034350e+02</td>\n",
       "      <td>3.816800e+02</td>\n",
       "    </tr>\n",
       "    <tr>\n",
       "      <th>High</th>\n",
       "      <td>2915.0</td>\n",
       "      <td>1.591258e+02</td>\n",
       "      <td>9.157435e+01</td>\n",
       "      <td>1.827000e+01</td>\n",
       "      <td>8.138500e+01</td>\n",
       "      <td>1.552000e+02</td>\n",
       "      <td>2.069350e+02</td>\n",
       "      <td>3.843300e+02</td>\n",
       "    </tr>\n",
       "    <tr>\n",
       "      <th>Low</th>\n",
       "      <td>2915.0</td>\n",
       "      <td>1.551013e+02</td>\n",
       "      <td>8.930683e+01</td>\n",
       "      <td>1.755000e+01</td>\n",
       "      <td>8.007500e+01</td>\n",
       "      <td>1.513400e+02</td>\n",
       "      <td>2.011600e+02</td>\n",
       "      <td>3.788100e+02</td>\n",
       "    </tr>\n",
       "    <tr>\n",
       "      <th>Close</th>\n",
       "      <td>2915.0</td>\n",
       "      <td>1.571549e+02</td>\n",
       "      <td>9.046597e+01</td>\n",
       "      <td>1.773000e+01</td>\n",
       "      <td>8.069500e+01</td>\n",
       "      <td>1.532400e+02</td>\n",
       "      <td>2.040500e+02</td>\n",
       "      <td>3.821800e+02</td>\n",
       "    </tr>\n",
       "    <tr>\n",
       "      <th>Adj Close</th>\n",
       "      <td>2915.0</td>\n",
       "      <td>1.571549e+02</td>\n",
       "      <td>9.046597e+01</td>\n",
       "      <td>1.773000e+01</td>\n",
       "      <td>8.069500e+01</td>\n",
       "      <td>1.532400e+02</td>\n",
       "      <td>2.040500e+02</td>\n",
       "      <td>3.821800e+02</td>\n",
       "    </tr>\n",
       "    <tr>\n",
       "      <th>Volume</th>\n",
       "      <td>2915.0</td>\n",
       "      <td>3.065062e+07</td>\n",
       "      <td>2.639284e+07</td>\n",
       "      <td>5.467500e+06</td>\n",
       "      <td>1.637125e+07</td>\n",
       "      <td>2.300090e+07</td>\n",
       "      <td>3.523315e+07</td>\n",
       "      <td>5.735764e+08</td>\n",
       "    </tr>\n",
       "  </tbody>\n",
       "</table>\n",
       "</div>"
      ],
      "text/plain": [
       "            count          mean           std           min           25%  \\\n",
       "Open       2915.0  1.570802e+02  9.040421e+01  1.808000e+01  8.064000e+01   \n",
       "High       2915.0  1.591258e+02  9.157435e+01  1.827000e+01  8.138500e+01   \n",
       "Low        2915.0  1.551013e+02  8.930683e+01  1.755000e+01  8.007500e+01   \n",
       "Close      2915.0  1.571549e+02  9.046597e+01  1.773000e+01  8.069500e+01   \n",
       "Adj Close  2915.0  1.571549e+02  9.046597e+01  1.773000e+01  8.069500e+01   \n",
       "Volume     2915.0  3.065062e+07  2.639284e+07  5.467500e+06  1.637125e+07   \n",
       "\n",
       "                    50%           75%           max  \n",
       "Open       1.533400e+02  2.034350e+02  3.816800e+02  \n",
       "High       1.552000e+02  2.069350e+02  3.843300e+02  \n",
       "Low        1.513400e+02  2.011600e+02  3.788100e+02  \n",
       "Close      1.532400e+02  2.040500e+02  3.821800e+02  \n",
       "Adj Close  1.532400e+02  2.040500e+02  3.821800e+02  \n",
       "Volume     2.300090e+07  3.523315e+07  5.735764e+08  "
      ]
     },
     "execution_count": 13,
     "metadata": {},
     "output_type": "execute_result"
    }
   ],
   "source": [
    "#describe hepls us to see mean,count,std,min,max and percentages\n",
    "\n",
    "data.describe() .T"
   ]
  },
  {
   "cell_type": "code",
   "execution_count": 14,
   "metadata": {},
   "outputs": [
    {
     "data": {
      "text/plain": [
       "Date         0\n",
       "Open         0\n",
       "High         0\n",
       "Low          0\n",
       "Close        0\n",
       "Adj Close    0\n",
       "Volume       0\n",
       "dtype: int64"
      ]
     },
     "execution_count": 14,
     "metadata": {},
     "output_type": "execute_result"
    }
   ],
   "source": [
    "#missing values\n",
    "data.isnull().sum()"
   ]
  },
  {
   "cell_type": "markdown",
   "metadata": {},
   "source": [
    "OUR DATASET HAVE NO MISSING VALUES!! GREAT"
   ]
  },
  {
   "cell_type": "markdown",
   "metadata": {},
   "source": [
    "100-day moving average along with the closing prices "
   ]
  },
  {
   "cell_type": "markdown",
   "metadata": {},
   "source": [
    "\n",
    "Moving Average is calculated by adding up all the close prices during a specific period and dividing the sum by the number of time periods."
   ]
  },
  {
   "cell_type": "code",
   "execution_count": 15,
   "metadata": {},
   "outputs": [],
   "source": [
    "ma_100_days = data['Close'].rolling(100).mean()"
   ]
  },
  {
   "cell_type": "code",
   "execution_count": 16,
   "metadata": {},
   "outputs": [
    {
     "data": {
      "image/png": "[encoded data removed]",
      "text/plain": [
       "<Figure size 800x600 with 1 Axes>"
      ]
     },
     "metadata": {},
     "output_type": "display_data"
    }
   ],
   "source": [
    "plt.figure(figsize=(8, 6))\n",
    "plt.plot(ma_100_days, 'b', label='100-Day Moving Average')\n",
    "plt.plot(data['Close'], 'r', label='Closing Prices')\n",
    "plt.legend()  # Show legend\n",
    "plt.title('100-Day Moving Average vs. Closing Prices')\n",
    "plt.xlabel('Date')\n",
    "plt.ylabel('Price')\n",
    "plt.show()"
   ]
  },
  {
   "cell_type": "markdown",
   "metadata": {},
   "source": [
    "200-day moving average along with the closing prices "
   ]
  },
  {
   "cell_type": "code",
   "execution_count": 17,
   "metadata": {},
   "outputs": [],
   "source": [
    "ma_200_days = data['Close'].rolling(200).mean()"
   ]
  },
  {
   "cell_type": "code",
   "execution_count": 18,
   "metadata": {},
   "outputs": [
    {
     "data": {
      "image/png": "[encoded data removed]",
      "text/plain": [
       "<Figure size 800x600 with 1 Axes>"
      ]
     },
     "metadata": {},
     "output_type": "display_data"
    }
   ],
   "source": [
    "plt.figure(figsize=(8, 6))\n",
    "plt.plot(ma_100_days, 'g', label='100-Day Moving Average')\n",
    "plt.plot(ma_200_days, 'b', label='200-Day Moving Average')\n",
    "plt.plot(data['Close'], 'r', label='Closing Prices')\n",
    "plt.legend()  # Show legend\n",
    "plt.title('200-Day Moving Average vs. Closing Prices')\n",
    "plt.xlabel('Date')\n",
    "plt.ylabel('Price')\n",
    "plt.show()"
   ]
  },
  {
   "cell_type": "markdown",
   "metadata": {},
   "source": [
    " use one portion of the data for training a model (data_train) and the other portion for testing or validating the model (data_test)."
   ]
  },
  {
   "cell_type": "code",
   "execution_count": 19,
   "metadata": {},
   "outputs": [],
   "source": [
    "data_train = pd.DataFrame(data.Close[0: int(len(data)*0.80)])\n",
    "data_test = pd.DataFrame(data.Close[int(len(data)*0.80): len(data)])"
   ]
  },
  {
   "cell_type": "code",
   "execution_count": 20,
   "metadata": {},
   "outputs": [
    {
     "data": {
      "text/plain": [
       "(2332, 583)"
      ]
     },
     "execution_count": 20,
     "metadata": {},
     "output_type": "execute_result"
    }
   ],
   "source": [
    "data_train.shape[0], data_test.shape[0]"
   ]
  },
  {
   "cell_type": "code",
   "execution_count": 21,
   "metadata": {},
   "outputs": [],
   "source": [
    "from sklearn.preprocessing import MinMaxScaler\n",
    "scaler = MinMaxScaler(feature_range=(0,1))"
   ]
  },
  {
   "cell_type": "markdown",
   "metadata": {},
   "source": []
  },
  {
   "cell_type": "code",
   "execution_count": 22,
   "metadata": {},
   "outputs": [],
   "source": [
    "data_train_scale = scaler.fit_transform(data_train)"
   ]
  },
  {
   "cell_type": "markdown",
   "metadata": {},
   "source": [
    "The idea is to use the past 100 data points to predict the next data point, creating a sliding window of historical data for training the model."
   ]
  },
  {
   "cell_type": "code",
   "execution_count": 23,
   "metadata": {},
   "outputs": [],
   "source": [
    "x = []\n",
    "y = []\n",
    "\n",
    "for i in range (100, data_train_scale.shape[0]):\n",
    "    x.append(data_train_scale[i-100:i])\n",
    "    y.append(data_train_scale[i,0])"
   ]
  },
  {
   "cell_type": "code",
   "execution_count": 24,
   "metadata": {},
   "outputs": [],
   "source": [
    "x, y = np.array(x), np.array(y)"
   ]
  },
  {
   "cell_type": "markdown",
   "metadata": {},
   "source": [
    "Step 2. Now lets create our Model"
   ]
  },
  {
   "cell_type": "code",
   "execution_count": 25,
   "metadata": {},
   "outputs": [],
   "source": [
    "from keras.layers import Dense, Dropout, LSTM\n",
    "from keras.models import Sequential"
   ]
  },
  {
   "cell_type": "markdown",
   "metadata": {},
   "source": [
    "LSTM-based neural network with multiple layers and dropout regularization for sequence prediction. The architecture is designed to capture and learn patterns in sequential data, with the final output being a single continuous value."
   ]
  },
  {
   "cell_type": "code",
   "execution_count": 26,
   "metadata": {},
   "outputs": [
    {
     "name": "stdout",
     "output_type": "stream",
     "text": [
      "WARNING:tensorflow:From c:\\Users\\cmupenzi\\AppData\\Local\\anaconda3\\Lib\\site-packages\\keras\\src\\backend.py:873: The name tf.get_default_graph is deprecated. Please use tf.compat.v1.get_default_graph instead.\n",
      "\n"
     ]
    }
   ],
   "source": [
    "model = Sequential()\n",
    "model.add(LSTM(units= 50, activation= 'relu', return_sequences= True, input_shape = ((x.shape[1], 1))))\n",
    "model.add(Dropout(0.2))\n",
    "\n",
    "model.add(LSTM(units= 60, activation= 'relu', return_sequences= True))\n",
    "model.add(Dropout(0.3))\n",
    "\n",
    "model.add(LSTM(units= 80, activation= 'relu', return_sequences= True))\n",
    "model.add(Dropout(0.4))\n",
    "\n",
    "model.add(LSTM(units= 120, activation= 'relu'))\n",
    "model.add(Dropout(0.5))\n",
    "\n",
    "model.add(Dense(units= 1))"
   ]
  },
  {
   "cell_type": "markdown",
   "metadata": {},
   "source": [
    "lets compile our model"
   ]
  },
  {
   "cell_type": "code",
   "execution_count": 27,
   "metadata": {},
   "outputs": [
    {
     "name": "stdout",
     "output_type": "stream",
     "text": [
      "WARNING:tensorflow:From c:\\Users\\cmupenzi\\AppData\\Local\\anaconda3\\Lib\\site-packages\\keras\\src\\optimizers\\__init__.py:309: The name tf.train.Optimizer is deprecated. Please use tf.compat.v1.train.Optimizer instead.\n",
      "\n"
     ]
    }
   ],
   "source": [
    "model.compile(optimizer= 'adam', loss = 'mean_squared_error')"
   ]
  },
  {
   "cell_type": "markdown",
   "metadata": {},
   "source": [
    "lets fit our model"
   ]
  },
  {
   "cell_type": "code",
   "execution_count": 28,
   "metadata": {},
   "outputs": [
    {
     "name": "stdout",
     "output_type": "stream",
     "text": [
      "Epoch 1/50\n",
      "WARNING:tensorflow:From c:\\Users\\cmupenzi\\AppData\\Local\\anaconda3\\Lib\\site-packages\\keras\\src\\utils\\tf_utils.py:492: The name tf.ragged.RaggedTensorValue is deprecated. Please use tf.compat.v1.ragged.RaggedTensorValue instead.\n",
      "\n",
      "70/70 [==============================] - 16s 158ms/step - loss: 0.0267\n",
      "Epoch 2/50\n",
      "70/70 [==============================] - 12s 171ms/step - loss: 0.0059\n",
      "Epoch 3/50\n",
      "70/70 [==============================] - 11s 160ms/step - loss: 0.0052\n",
      "Epoch 4/50\n",
      "70/70 [==============================] - 11s 159ms/step - loss: 0.0055\n",
      "Epoch 5/50\n",
      "70/70 [==============================] - 12s 171ms/step - loss: 0.0046\n",
      "Epoch 6/50\n",
      "70/70 [==============================] - 12s 170ms/step - loss: 0.0045\n",
      "Epoch 7/50\n",
      "70/70 [==============================] - 12s 166ms/step - loss: 0.0037\n",
      "Epoch 8/50\n",
      "70/70 [==============================] - 12s 170ms/step - loss: 0.0038\n",
      "Epoch 9/50\n",
      "70/70 [==============================] - 12s 167ms/step - loss: 0.0035\n",
      "Epoch 10/50\n",
      "70/70 [==============================] - 12s 169ms/step - loss: 0.0032\n",
      "Epoch 11/50\n",
      "70/70 [==============================] - 12s 166ms/step - loss: 0.0031\n",
      "Epoch 12/50\n",
      "70/70 [==============================] - 12s 175ms/step - loss: 0.0040\n",
      "Epoch 13/50\n",
      "70/70 [==============================] - 12s 175ms/step - loss: 0.0031\n",
      "Epoch 14/50\n",
      "70/70 [==============================] - 12s 172ms/step - loss: 0.0028\n",
      "Epoch 15/50\n",
      "70/70 [==============================] - 11s 163ms/step - loss: 0.0030\n",
      "Epoch 16/50\n",
      "70/70 [==============================] - 12s 167ms/step - loss: 0.0028\n",
      "Epoch 17/50\n",
      "70/70 [==============================] - 12s 174ms/step - loss: 0.0026\n",
      "Epoch 18/50\n",
      "70/70 [==============================] - 12s 171ms/step - loss: 0.0025\n",
      "Epoch 19/50\n",
      "70/70 [==============================] - 12s 169ms/step - loss: 0.0028\n",
      "Epoch 20/50\n",
      "70/70 [==============================] - 12s 175ms/step - loss: 0.0024\n",
      "Epoch 21/50\n",
      "70/70 [==============================] - 12s 167ms/step - loss: 0.0027\n",
      "Epoch 22/50\n",
      "70/70 [==============================] - 12s 171ms/step - loss: 0.0023\n",
      "Epoch 23/50\n",
      "70/70 [==============================] - 11s 164ms/step - loss: 0.0022\n",
      "Epoch 24/50\n",
      "70/70 [==============================] - 12s 172ms/step - loss: 0.0020\n",
      "Epoch 25/50\n",
      "70/70 [==============================] - 12s 165ms/step - loss: 0.0022\n",
      "Epoch 26/50\n",
      "70/70 [==============================] - 12s 164ms/step - loss: 0.0020\n",
      "Epoch 27/50\n",
      "70/70 [==============================] - 12s 166ms/step - loss: 0.0021\n",
      "Epoch 28/50\n",
      "70/70 [==============================] - 12s 171ms/step - loss: 0.0020\n",
      "Epoch 29/50\n",
      "70/70 [==============================] - 12s 169ms/step - loss: 0.0017\n",
      "Epoch 30/50\n",
      "70/70 [==============================] - 12s 165ms/step - loss: 0.0018\n",
      "Epoch 31/50\n",
      "70/70 [==============================] - 12s 171ms/step - loss: 0.0020\n",
      "Epoch 32/50\n",
      "70/70 [==============================] - 12s 170ms/step - loss: 0.0018\n",
      "Epoch 33/50\n",
      "70/70 [==============================] - 12s 170ms/step - loss: 0.0019\n",
      "Epoch 34/50\n",
      "70/70 [==============================] - 11s 162ms/step - loss: 0.0017\n",
      "Epoch 35/50\n",
      "70/70 [==============================] - 12s 168ms/step - loss: 0.0018\n",
      "Epoch 36/50\n",
      "70/70 [==============================] - 12s 174ms/step - loss: 0.0020\n",
      "Epoch 37/50\n",
      "70/70 [==============================] - 12s 172ms/step - loss: 0.0019\n",
      "Epoch 38/50\n",
      "70/70 [==============================] - 12s 166ms/step - loss: 0.0019\n",
      "Epoch 39/50\n",
      "70/70 [==============================] - 12s 177ms/step - loss: 0.0018\n",
      "Epoch 40/50\n",
      "70/70 [==============================] - 13s 181ms/step - loss: 0.0017\n",
      "Epoch 41/50\n",
      "70/70 [==============================] - 13s 185ms/step - loss: 0.0017\n",
      "Epoch 42/50\n",
      "70/70 [==============================] - 12s 167ms/step - loss: 0.0018\n",
      "Epoch 43/50\n",
      "70/70 [==============================] - 12s 175ms/step - loss: 0.0018\n",
      "Epoch 44/50\n",
      "70/70 [==============================] - 12s 175ms/step - loss: 0.0016\n",
      "Epoch 45/50\n",
      "70/70 [==============================] - 12s 175ms/step - loss: 0.0018\n",
      "Epoch 46/50\n",
      "70/70 [==============================] - 12s 165ms/step - loss: 0.0016\n",
      "Epoch 47/50\n",
      "70/70 [==============================] - 11s 160ms/step - loss: 0.0017\n",
      "Epoch 48/50\n",
      "70/70 [==============================] - 12s 169ms/step - loss: 0.0017\n",
      "Epoch 49/50\n",
      "70/70 [==============================] - 12s 171ms/step - loss: 0.0018\n",
      "Epoch 50/50\n",
      "70/70 [==============================] - 12s 165ms/step - loss: 0.0016\n"
     ]
    },
    {
     "data": {
      "text/plain": [
       "<keras.src.callbacks.History at 0x18a7f280650>"
      ]
     },
     "execution_count": 28,
     "metadata": {},
     "output_type": "execute_result"
    }
   ],
   "source": [
    "model.fit(x,y, epochs = 50, batch_size = 32, verbose= 1)"
   ]
  },
  {
   "cell_type": "markdown",
   "metadata": {},
   "source": [
    "Model summary"
   ]
  },
  {
   "cell_type": "code",
   "execution_count": 30,
   "metadata": {},
   "outputs": [
    {
     "name": "stdout",
     "output_type": "stream",
     "text": [
      "Model: \"sequential\"\n",
      "_________________________________________________________________\n",
      " Layer (type)                Output Shape              Param #   \n",
      "=================================================================\n",
      " lstm (LSTM)                 (None, 100, 50)           10400     \n",
      "                                                                 \n",
      " dropout (Dropout)           (None, 100, 50)           0         \n",
      "                                                                 \n",
      " lstm_1 (LSTM)               (None, 100, 60)           26640     \n",
      "                                                                 \n",
      " dropout_1 (Dropout)         (None, 100, 60)           0         \n",
      "                                                                 \n",
      " lstm_2 (LSTM)               (None, 100, 80)           45120     \n",
      "                                                                 \n",
      " dropout_2 (Dropout)         (None, 100, 80)           0         \n",
      "                                                                 \n",
      " lstm_3 (LSTM)               (None, 120)               96480     \n",
      "                                                                 \n",
      " dropout_3 (Dropout)         (None, 120)               0         \n",
      "                                                                 \n",
      " dense (Dense)               (None, 1)                 121       \n",
      "                                                                 \n",
      "=================================================================\n",
      "Total params: 178761 (698.29 KB)\n",
      "Trainable params: 178761 (698.29 KB)\n",
      "Non-trainable params: 0 (0.00 Byte)\n",
      "_________________________________________________________________\n"
     ]
    }
   ],
   "source": [
    "model.summary()"
   ]
  },
  {
   "cell_type": "markdown",
   "metadata": {},
   "source": [
    "Step 3 Test Model"
   ]
  },
  {
   "cell_type": "code",
   "execution_count": 31,
   "metadata": {},
   "outputs": [],
   "source": [
    "pas_100_days = data_train.tail(100)"
   ]
  },
  {
   "cell_type": "code",
   "execution_count": 32,
   "metadata": {},
   "outputs": [],
   "source": [
    "data_test = pd.concat([pas_100_days, data_test], ignore_index=True)"
   ]
  },
  {
   "cell_type": "code",
   "execution_count": 33,
   "metadata": {},
   "outputs": [],
   "source": [
    "data_test_scale = scaler.fit_transform(data_test)"
   ]
  },
  {
   "cell_type": "code",
   "execution_count": 34,
   "metadata": {},
   "outputs": [],
   "source": [
    "x = []\n",
    "y = []\n",
    "\n",
    "for i in range (100, data_test_scale.shape[0]):\n",
    "    x.append(data_test_scale[i-100:i])\n",
    "    y.append(data_test_scale[i,0])\n",
    "x, y = np.array(x), np.array(y)"
   ]
  },
  {
   "cell_type": "code",
   "execution_count": 35,
   "metadata": {},
   "outputs": [
    {
     "name": "stdout",
     "output_type": "stream",
     "text": [
      "19/19 [==============================] - 2s 48ms/step\n"
     ]
    }
   ],
   "source": [
    "y_predict = model.predict(x)"
   ]
  },
  {
   "cell_type": "code",
   "execution_count": 36,
   "metadata": {},
   "outputs": [
    {
     "data": {
      "text/plain": [
       "array([[0.9356235 ],\n",
       "       [0.9357462 ],\n",
       "       [0.9364701 ],\n",
       "       [0.93799704],\n",
       "       [0.94065934],\n",
       "       [0.9444928 ],\n",
       "       [0.94939977],\n",
       "       [0.95484984],\n",
       "       [0.960347  ],\n",
       "       [0.96574605],\n",
       "       [0.9707523 ],\n",
       "       [0.97515345],\n",
       "       [0.97885805],\n",
       "       [0.9817602 ],\n",
       "       [0.9838353 ],\n",
       "       [0.98501664],\n",
       "       [0.98529273],\n",
       "       [0.9844023 ],\n",
       "       [0.981882  ],\n",
       "       [0.977656  ],\n",
       "       [0.9713767 ],\n",
       "       [0.9631701 ],\n",
       "       [0.95379025],\n",
       "       [0.9441375 ],\n",
       "       [0.9344751 ],\n",
       "       [0.9249454 ],\n",
       "       [0.91571766],\n",
       "       [0.9071608 ],\n",
       "       [0.8989049 ],\n",
       "       [0.89093137],\n",
       "       [0.88339335],\n",
       "       [0.8763069 ],\n",
       "       [0.8697469 ],\n",
       "       [0.8636136 ],\n",
       "       [0.85777366],\n",
       "       [0.8522113 ],\n",
       "       [0.8471621 ],\n",
       "       [0.8426936 ],\n",
       "       [0.8392672 ],\n",
       "       [0.8373932 ],\n",
       "       [0.8373418 ],\n",
       "       [0.8391059 ],\n",
       "       [0.8416693 ],\n",
       "       [0.8442459 ],\n",
       "       [0.8457298 ],\n",
       "       [0.84530234],\n",
       "       [0.8428488 ],\n",
       "       [0.83895046],\n",
       "       [0.83461016],\n",
       "       [0.8306154 ],\n",
       "       [0.82762015],\n",
       "       [0.8261485 ],\n",
       "       [0.8265906 ],\n",
       "       [0.82888824],\n",
       "       [0.8325652 ],\n",
       "       [0.83669853],\n",
       "       [0.8405002 ],\n",
       "       [0.8440409 ],\n",
       "       [0.84777486],\n",
       "       [0.8518312 ],\n",
       "       [0.8560589 ],\n",
       "       [0.86013836],\n",
       "       [0.86407065],\n",
       "       [0.8676882 ],\n",
       "       [0.8706681 ],\n",
       "       [0.8729642 ],\n",
       "       [0.8742698 ],\n",
       "       [0.87464935],\n",
       "       [0.8736911 ],\n",
       "       [0.8705792 ],\n",
       "       [0.86492544],\n",
       "       [0.8567062 ],\n",
       "       [0.846788  ],\n",
       "       [0.8364375 ],\n",
       "       [0.8270857 ],\n",
       "       [0.819744  ],\n",
       "       [0.81492066],\n",
       "       [0.81286734],\n",
       "       [0.81342125],\n",
       "       [0.81644285],\n",
       "       [0.82127243],\n",
       "       [0.8270955 ],\n",
       "       [0.83281887],\n",
       "       [0.83800393],\n",
       "       [0.842302  ],\n",
       "       [0.84576267],\n",
       "       [0.8489894 ],\n",
       "       [0.85246235],\n",
       "       [0.8562681 ],\n",
       "       [0.8603616 ],\n",
       "       [0.8642443 ],\n",
       "       [0.8675738 ],\n",
       "       [0.8700655 ],\n",
       "       [0.87104934],\n",
       "       [0.8705207 ],\n",
       "       [0.86871254],\n",
       "       [0.8658223 ],\n",
       "       [0.8623946 ],\n",
       "       [0.85891104],\n",
       "       [0.85544205],\n",
       "       [0.8522329 ],\n",
       "       [0.84889144],\n",
       "       [0.8451499 ],\n",
       "       [0.8408001 ],\n",
       "       [0.8352523 ],\n",
       "       [0.8284564 ],\n",
       "       [0.82031953],\n",
       "       [0.81076914],\n",
       "       [0.8000003 ],\n",
       "       [0.788742  ],\n",
       "       [0.7782829 ],\n",
       "       [0.7698699 ],\n",
       "       [0.76439923],\n",
       "       [0.75856787],\n",
       "       [0.74946797],\n",
       "       [0.7351125 ],\n",
       "       [0.7148062 ],\n",
       "       [0.6891515 ],\n",
       "       [0.65956825],\n",
       "       [0.6280385 ],\n",
       "       [0.5964289 ],\n",
       "       [0.56642693],\n",
       "       [0.5390788 ],\n",
       "       [0.514893  ],\n",
       "       [0.4939342 ],\n",
       "       [0.47585946],\n",
       "       [0.46023828],\n",
       "       [0.44690055],\n",
       "       [0.43595567],\n",
       "       [0.42766184],\n",
       "       [0.4217795 ],\n",
       "       [0.4181693 ],\n",
       "       [0.4162558 ],\n",
       "       [0.41530982],\n",
       "       [0.41420254],\n",
       "       [0.41228673],\n",
       "       [0.40961322],\n",
       "       [0.4063744 ],\n",
       "       [0.40267506],\n",
       "       [0.39858767],\n",
       "       [0.39427793],\n",
       "       [0.390185  ],\n",
       "       [0.38684747],\n",
       "       [0.38513875],\n",
       "       [0.38577712],\n",
       "       [0.38900134],\n",
       "       [0.3943001 ],\n",
       "       [0.40140873],\n",
       "       [0.40972644],\n",
       "       [0.41879445],\n",
       "       [0.42855534],\n",
       "       [0.4387605 ],\n",
       "       [0.44873416],\n",
       "       [0.45789635],\n",
       "       [0.46626037],\n",
       "       [0.47382963],\n",
       "       [0.48015743],\n",
       "       [0.48481655],\n",
       "       [0.48751494],\n",
       "       [0.48784292],\n",
       "       [0.48563805],\n",
       "       [0.48115456],\n",
       "       [0.4749154 ],\n",
       "       [0.46767685],\n",
       "       [0.46035475],\n",
       "       [0.4531648 ],\n",
       "       [0.44578293],\n",
       "       [0.43795356],\n",
       "       [0.42972395],\n",
       "       [0.42117345],\n",
       "       [0.41225165],\n",
       "       [0.40350163],\n",
       "       [0.39533368],\n",
       "       [0.38848686],\n",
       "       [0.38366747],\n",
       "       [0.38189387],\n",
       "       [0.38329223],\n",
       "       [0.3870437 ],\n",
       "       [0.39184254],\n",
       "       [0.3966387 ],\n",
       "       [0.40030015],\n",
       "       [0.40222347],\n",
       "       [0.40255964],\n",
       "       [0.40171987],\n",
       "       [0.4002603 ],\n",
       "       [0.39832857],\n",
       "       [0.39600328],\n",
       "       [0.39339203],\n",
       "       [0.39067656],\n",
       "       [0.38777715],\n",
       "       [0.3846467 ],\n",
       "       [0.38137272],\n",
       "       [0.37821823],\n",
       "       [0.37537515],\n",
       "       [0.37287807],\n",
       "       [0.37087986],\n",
       "       [0.36935598],\n",
       "       [0.36829132],\n",
       "       [0.36769208],\n",
       "       [0.36756784],\n",
       "       [0.36762124],\n",
       "       [0.36741745],\n",
       "       [0.3665229 ],\n",
       "       [0.36465013],\n",
       "       [0.36165255],\n",
       "       [0.35754356],\n",
       "       [0.352534  ],\n",
       "       [0.34708712],\n",
       "       [0.3414681 ],\n",
       "       [0.3359251 ],\n",
       "       [0.33065176],\n",
       "       [0.3258007 ],\n",
       "       [0.32142296],\n",
       "       [0.31754696],\n",
       "       [0.31392306],\n",
       "       [0.31051937],\n",
       "       [0.30739972],\n",
       "       [0.3046018 ],\n",
       "       [0.302215  ],\n",
       "       [0.3002922 ],\n",
       "       [0.2988052 ],\n",
       "       [0.29765877],\n",
       "       [0.29677805],\n",
       "       [0.29606357],\n",
       "       [0.2954521 ],\n",
       "       [0.2949191 ],\n",
       "       [0.294509  ],\n",
       "       [0.29432788],\n",
       "       [0.2944699 ],\n",
       "       [0.2949275 ],\n",
       "       [0.29563737],\n",
       "       [0.29646888],\n",
       "       [0.29732782],\n",
       "       [0.2981009 ],\n",
       "       [0.29868537],\n",
       "       [0.2990086 ],\n",
       "       [0.2990247 ],\n",
       "       [0.29877955],\n",
       "       [0.29836297],\n",
       "       [0.29785013],\n",
       "       [0.29732403],\n",
       "       [0.29684722],\n",
       "       [0.29651877],\n",
       "       [0.29642326],\n",
       "       [0.29662803],\n",
       "       [0.29719043],\n",
       "       [0.29809704],\n",
       "       [0.29927564],\n",
       "       [0.30062994],\n",
       "       [0.3020333 ],\n",
       "       [0.30337638],\n",
       "       [0.30450448],\n",
       "       [0.3053005 ],\n",
       "       [0.30574954],\n",
       "       [0.3058617 ],\n",
       "       [0.30563262],\n",
       "       [0.30504704],\n",
       "       [0.3041218 ],\n",
       "       [0.30293873],\n",
       "       [0.30158406],\n",
       "       [0.30010638],\n",
       "       [0.29854074],\n",
       "       [0.2969354 ],\n",
       "       [0.2953872 ],\n",
       "       [0.2940006 ],\n",
       "       [0.29276618],\n",
       "       [0.29161954],\n",
       "       [0.2904758 ],\n",
       "       [0.28924355],\n",
       "       [0.28786686],\n",
       "       [0.28630352],\n",
       "       [0.28450215],\n",
       "       [0.28244093],\n",
       "       [0.2801048 ],\n",
       "       [0.27747273],\n",
       "       [0.2745282 ],\n",
       "       [0.27130234],\n",
       "       [0.2678353 ],\n",
       "       [0.26417688],\n",
       "       [0.26039493],\n",
       "       [0.25659057],\n",
       "       [0.25285828],\n",
       "       [0.24928093],\n",
       "       [0.24588284],\n",
       "       [0.24266571],\n",
       "       [0.23959097],\n",
       "       [0.23660891],\n",
       "       [0.2336947 ],\n",
       "       [0.23082072],\n",
       "       [0.22802225],\n",
       "       [0.22534448],\n",
       "       [0.22284383],\n",
       "       [0.22055456],\n",
       "       [0.21848334],\n",
       "       [0.21662076],\n",
       "       [0.21501511],\n",
       "       [0.213657  ],\n",
       "       [0.21230954],\n",
       "       [0.21070358],\n",
       "       [0.2085579 ],\n",
       "       [0.20563886],\n",
       "       [0.20179805],\n",
       "       [0.1969761 ],\n",
       "       [0.19122206],\n",
       "       [0.18474285],\n",
       "       [0.17773065],\n",
       "       [0.17049497],\n",
       "       [0.163466  ],\n",
       "       [0.15702325],\n",
       "       [0.15144399],\n",
       "       [0.14690322],\n",
       "       [0.14343059],\n",
       "       [0.14095385],\n",
       "       [0.13931863],\n",
       "       [0.13838287],\n",
       "       [0.13802317],\n",
       "       [0.13813254],\n",
       "       [0.13860881],\n",
       "       [0.13934097],\n",
       "       [0.14022757],\n",
       "       [0.14123914],\n",
       "       [0.14239195],\n",
       "       [0.14373267],\n",
       "       [0.14530142],\n",
       "       [0.14706543],\n",
       "       [0.14895904],\n",
       "       [0.15091616],\n",
       "       [0.15287618],\n",
       "       [0.15477647],\n",
       "       [0.1566014 ],\n",
       "       [0.15836672],\n",
       "       [0.16005552],\n",
       "       [0.16166718],\n",
       "       [0.163168  ],\n",
       "       [0.16452524],\n",
       "       [0.16575316],\n",
       "       [0.16685498],\n",
       "       [0.16783856],\n",
       "       [0.1687048 ],\n",
       "       [0.16944279],\n",
       "       [0.1700764 ],\n",
       "       [0.17064357],\n",
       "       [0.17121376],\n",
       "       [0.17187122],\n",
       "       [0.17268354],\n",
       "       [0.17371227],\n",
       "       [0.17499223],\n",
       "       [0.1765516 ],\n",
       "       [0.17839679],\n",
       "       [0.180534  ],\n",
       "       [0.18295507],\n",
       "       [0.18561128],\n",
       "       [0.18839544],\n",
       "       [0.19123468],\n",
       "       [0.19409375],\n",
       "       [0.19694689],\n",
       "       [0.19979782],\n",
       "       [0.2026418 ],\n",
       "       [0.20549363],\n",
       "       [0.208387  ],\n",
       "       [0.21133435],\n",
       "       [0.21433854],\n",
       "       [0.21740672],\n",
       "       [0.22067395],\n",
       "       [0.22429009],\n",
       "       [0.22837454],\n",
       "       [0.23302972],\n",
       "       [0.23826213],\n",
       "       [0.24398205],\n",
       "       [0.25002164],\n",
       "       [0.25622195],\n",
       "       [0.2624149 ],\n",
       "       [0.26846957],\n",
       "       [0.2742158 ],\n",
       "       [0.2795674 ],\n",
       "       [0.28451437],\n",
       "       [0.28897485],\n",
       "       [0.2928725 ],\n",
       "       [0.29620087],\n",
       "       [0.29894868],\n",
       "       [0.30114517],\n",
       "       [0.30283782],\n",
       "       [0.30412018],\n",
       "       [0.3051405 ],\n",
       "       [0.30606762],\n",
       "       [0.30703613],\n",
       "       [0.3081114 ],\n",
       "       [0.30930674],\n",
       "       [0.3105792 ],\n",
       "       [0.3118905 ],\n",
       "       [0.31332117],\n",
       "       [0.31496257],\n",
       "       [0.31696224],\n",
       "       [0.31941733],\n",
       "       [0.32269508],\n",
       "       [0.32695284],\n",
       "       [0.33231193],\n",
       "       [0.33873585],\n",
       "       [0.34623465],\n",
       "       [0.35486457],\n",
       "       [0.36385122],\n",
       "       [0.37276977],\n",
       "       [0.38141465],\n",
       "       [0.38977748],\n",
       "       [0.397902  ],\n",
       "       [0.4057212 ],\n",
       "       [0.41301143],\n",
       "       [0.4197461 ],\n",
       "       [0.42586458],\n",
       "       [0.43125683],\n",
       "       [0.43584815],\n",
       "       [0.4399255 ],\n",
       "       [0.44379628],\n",
       "       [0.4474789 ],\n",
       "       [0.45083863],\n",
       "       [0.4535665 ],\n",
       "       [0.45530415],\n",
       "       [0.45589298],\n",
       "       [0.45538777],\n",
       "       [0.45369756],\n",
       "       [0.4510651 ],\n",
       "       [0.44910473],\n",
       "       [0.44898307],\n",
       "       [0.45122856],\n",
       "       [0.45601165],\n",
       "       [0.46297604],\n",
       "       [0.4712526 ],\n",
       "       [0.47987312],\n",
       "       [0.48805106],\n",
       "       [0.49521786],\n",
       "       [0.5010134 ],\n",
       "       [0.50540817],\n",
       "       [0.5084268 ],\n",
       "       [0.5103882 ],\n",
       "       [0.5116458 ],\n",
       "       [0.5126525 ],\n",
       "       [0.5139489 ],\n",
       "       [0.51584566],\n",
       "       [0.5185207 ],\n",
       "       [0.52191216],\n",
       "       [0.52590346],\n",
       "       [0.5304525 ],\n",
       "       [0.53588873],\n",
       "       [0.5424054 ],\n",
       "       [0.55002594],\n",
       "       [0.5588906 ],\n",
       "       [0.5688984 ],\n",
       "       [0.57963586],\n",
       "       [0.5905255 ],\n",
       "       [0.6006144 ],\n",
       "       [0.6091696 ],\n",
       "       [0.6157974 ],\n",
       "       [0.6206988 ],\n",
       "       [0.62425435],\n",
       "       [0.6269326 ],\n",
       "       [0.6295135 ],\n",
       "       [0.63254654],\n",
       "       [0.6364192 ],\n",
       "       [0.64109856],\n",
       "       [0.6464835 ],\n",
       "       [0.6525289 ],\n",
       "       [0.65858316],\n",
       "       [0.66441166],\n",
       "       [0.6698028 ],\n",
       "       [0.6744137 ],\n",
       "       [0.6782647 ],\n",
       "       [0.6814201 ],\n",
       "       [0.68436265],\n",
       "       [0.6873729 ],\n",
       "       [0.69048154],\n",
       "       [0.69377255],\n",
       "       [0.69744456],\n",
       "       [0.7020534 ],\n",
       "       [0.7080528 ],\n",
       "       [0.7153313 ],\n",
       "       [0.7235602 ],\n",
       "       [0.73233455],\n",
       "       [0.74138296],\n",
       "       [0.74976045],\n",
       "       [0.75628114],\n",
       "       [0.7601496 ],\n",
       "       [0.76123214],\n",
       "       [0.75998634],\n",
       "       [0.7576566 ],\n",
       "       [0.75585353],\n",
       "       [0.755548  ],\n",
       "       [0.75729775],\n",
       "       [0.7607707 ],\n",
       "       [0.76530445],\n",
       "       [0.7701074 ],\n",
       "       [0.7748245 ],\n",
       "       [0.7790774 ],\n",
       "       [0.7822686 ],\n",
       "       [0.78405124],\n",
       "       [0.7841676 ],\n",
       "       [0.78281844],\n",
       "       [0.7802005 ],\n",
       "       [0.7762635 ],\n",
       "       [0.77068776],\n",
       "       [0.7633293 ],\n",
       "       [0.7546539 ],\n",
       "       [0.7452369 ],\n",
       "       [0.73597217],\n",
       "       [0.72732246],\n",
       "       [0.719506  ],\n",
       "       [0.71284115],\n",
       "       [0.7079105 ],\n",
       "       [0.7049493 ],\n",
       "       [0.70394707],\n",
       "       [0.70468116],\n",
       "       [0.70695055],\n",
       "       [0.71040416],\n",
       "       [0.7145969 ],\n",
       "       [0.71904564],\n",
       "       [0.7237888 ],\n",
       "       [0.72859246],\n",
       "       [0.73334724],\n",
       "       [0.7382443 ],\n",
       "       [0.74285036],\n",
       "       [0.74683154],\n",
       "       [0.75010437],\n",
       "       [0.75244594],\n",
       "       [0.75356996],\n",
       "       [0.75350505],\n",
       "       [0.7525238 ],\n",
       "       [0.75088024],\n",
       "       [0.74877137],\n",
       "       [0.74666226],\n",
       "       [0.74478656],\n",
       "       [0.74355114],\n",
       "       [0.7429694 ],\n",
       "       [0.74312735],\n",
       "       [0.7439794 ],\n",
       "       [0.74586904],\n",
       "       [0.74910355],\n",
       "       [0.7538552 ],\n",
       "       [0.76023394],\n",
       "       [0.76790583],\n",
       "       [0.7759012 ],\n",
       "       [0.78362715],\n",
       "       [0.79081583],\n",
       "       [0.79700863],\n",
       "       [0.8016903 ],\n",
       "       [0.8044098 ],\n",
       "       [0.80527747],\n",
       "       [0.804567  ],\n",
       "       [0.802085  ],\n",
       "       [0.7973208 ],\n",
       "       [0.79048216],\n",
       "       [0.7823772 ],\n",
       "       [0.77385044],\n",
       "       [0.76609015],\n",
       "       [0.75997233],\n",
       "       [0.75611573],\n",
       "       [0.7548227 ],\n",
       "       [0.75608516],\n",
       "       [0.75960857],\n",
       "       [0.7649032 ],\n",
       "       [0.7717087 ],\n",
       "       [0.77968276],\n",
       "       [0.788658  ],\n",
       "       [0.79818714],\n",
       "       [0.807814  ],\n",
       "       [0.8171345 ],\n",
       "       [0.82603204],\n",
       "       [0.834272  ],\n",
       "       [0.84183365],\n",
       "       [0.8485616 ],\n",
       "       [0.854165  ],\n",
       "       [0.858658  ],\n",
       "       [0.86183774],\n",
       "       [0.8634025 ],\n",
       "       [0.8631667 ],\n",
       "       [0.860987  ],\n",
       "       [0.8569163 ],\n",
       "       [0.85122275],\n",
       "       [0.84475094],\n",
       "       [0.83860517],\n",
       "       [0.8333348 ],\n",
       "       [0.8295514 ],\n",
       "       [0.8276101 ],\n",
       "       [0.82748187],\n",
       "       [0.8289601 ]], dtype=float32)"
      ]
     },
     "execution_count": 36,
     "metadata": {},
     "output_type": "execute_result"
    }
   ],
   "source": [
    "y_predict"
   ]
  },
  {
   "cell_type": "code",
   "execution_count": 37,
   "metadata": {},
   "outputs": [
    {
     "name": "stdout",
     "output_type": "stream",
     "text": [
      "Root Mean Squared Error (RMSE): 0.06439402790243315\n"
     ]
    }
   ],
   "source": [
    "from sklearn.metrics import mean_squared_error\n",
    "from math import sqrt\n",
    "\n",
    "# Calculate Mean Squared Error\n",
    "mse = mean_squared_error(y, y_predict)\n",
    "\n",
    "# Calculate Root Mean Squared Error\n",
    "rmse = sqrt(mse)\n",
    "\n",
    "print(\"Root Mean Squared Error (RMSE):\", rmse)\n"
   ]
  },
  {
   "cell_type": "markdown",
   "metadata": {},
   "source": [
    "Great! our model's Root Mean Squared Error (RMSE) is 0.06439402790243315. This number represents the standard deviation of the residuals (prediction errors)."
   ]
  },
  {
   "cell_type": "markdown",
   "metadata": {},
   "source": [
    "\n",
    "In the context of our stock market prediction model, a lower RMSE value is generally better as it indicates that the predictions are closer to the actual values"
   ]
  },
  {
   "cell_type": "code",
   "execution_count": 38,
   "metadata": {},
   "outputs": [],
   "source": [
    "scale = 1/scaler.scale_"
   ]
  },
  {
   "cell_type": "code",
   "execution_count": 39,
   "metadata": {},
   "outputs": [],
   "source": [
    "y_predict = y_predict*scale"
   ]
  },
  {
   "cell_type": "code",
   "execution_count": 40,
   "metadata": {},
   "outputs": [],
   "source": [
    "y = y*scale"
   ]
  },
  {
   "cell_type": "code",
   "execution_count": 41,
   "metadata": {},
   "outputs": [
    {
     "data": {
      "image/png": "[encoded data removed]",
      "text/plain": [
       "<Figure size 1000x600 with 1 Axes>"
      ]
     },
     "metadata": {},
     "output_type": "display_data"
    }
   ],
   "source": [
    "with plt.style.context('seaborn-darkgrid'):  #\n",
    "    plt.figure(figsize=(10, 6))\n",
    "\n",
    "    # Plot predicted prices with a solid blue line\n",
    "    plt.plot(y_predict, 'b', label='Predicted Prices', linewidth=2)\n",
    "\n",
    "    # Plot original prices with a solid green line\n",
    "    plt.plot(y, 'g', label='Original Prices', linewidth=2)\n",
    "\n",
    "    # Customize axes labels and title\n",
    "    plt.xlabel('Time')\n",
    "    plt.ylabel('Prices')\n",
    "    plt.title('Comparison of Original and Predicted Prices')\n",
    "\n",
    "    # Add a legend with a shadow for better visibility\n",
    "    plt.legend(loc='upper left', shadow=True)\n",
    "\n",
    "    # Customize the grid for better readability\n",
    "    plt.grid(True, linestyle='--', alpha=0.7)\n",
    "\n",
    "    # Add a horizontal line at y=0 for reference (assuming prices should be positive)\n",
    "    plt.axhline(0, color='black', linewidth=0.5)\n",
    "\n",
    "    # Tighten layout for better spacing\n",
    "    plt.tight_layout()\n",
    "\n",
    "    # Show the plot\n",
    "    plt.show()"
   ]
  },
  {
   "cell_type": "code",
   "execution_count": 42,
   "metadata": {},
   "outputs": [],
   "source": [
    "model.save('Stock Market Prediction Model.keras')"
   ]
  }
 ],
 "metadata": {
  "kernelspec": {
   "display_name": "base",
   "language": "python",
   "name": "python3"
  },
  "language_info": {
   "codemirror_mode": {
    "name": "ipython",
    "version": 3
   },
   "file_extension": ".py",
   "mimetype": "text/x-python",
   "name": "python",
   "nbconvert_exporter": "python",
   "pygments_lexer": "ipython3",
   "version": "3.11.3"
  }
 },
 "nbformat": 4,
 "nbformat_minor": 2
}
