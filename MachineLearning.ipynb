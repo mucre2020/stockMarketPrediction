{
 "cells": [
  {
   "cell_type": "code",
   "execution_count": 8,
   "metadata": {},
   "outputs": [],
   "source": [
    "\n",
    "from random import seed\n",
    "from random import randrange\n",
    "from csv import reader\n",
    "from math import sqrt"
   ]
  },
  {
   "cell_type": "code",
   "execution_count": 9,
   "metadata": {},
   "outputs": [],
   "source": [
    "#FUNCTION TO LOAD ANY TYPE OF DATASET\n",
    "def load_csv(filename):\n",
    "    dataset = list()\n",
    "    with open(filename, 'r') as file:\n",
    "        csv_reader = reader(file)\n",
    "        for row in csv_reader:\n",
    "            if not row:\n",
    "                continue\n",
    "            dataset.append(row)\n",
    "        return dataset"
   ]
  },
  {
   "cell_type": "code",
   "execution_count": 10,
   "metadata": {},
   "outputs": [],
   "source": [
    "#CONVERT STRING COLMN TO FLOAT\n",
    "def str_colmn_to_float(dataset,column):\n",
    "    for row in dataset:\n",
    "        row[column] = float(row[column].strip())"
   ]
  },
  {
   "cell_type": "code",
   "execution_count": 11,
   "metadata": {},
   "outputs": [],
   "source": [
    "#find the min and max values for each colmn\n",
    "def dataset_minmax(dataset):\n",
    "    minmax = list()\n",
    "    for i in range (len(dataset[0])):\n",
    "        col_values = [row[i]for row in dataset]\n",
    "        value_min = min (col_values)\n",
    "        value_max = max(col_values)\n",
    "        minmax.append([value_min, value_max])\n",
    "    return minmax"
   ]
  },
  {
   "cell_type": "code",
   "execution_count": 12,
   "metadata": {},
   "outputs": [],
   "source": [
    "#rescale dataset column to range 0 -1\n",
    "def normalize_dataset(dataset, minimax):\n",
    "    for row in dataset:\n",
    "        for i in range (len(row)):\n",
    "            row[i] = (row[i] - minimax[i][0]/ minimax[i][1] - minimax[i][0])"
   ]
  },
  {
   "cell_type": "code",
   "execution_count": 13,
   "metadata": {},
   "outputs": [],
   "source": [
    "#\n",
    "def cross_validation_split(dataset, n_folds):\n",
    "    dataset_split = list()\n",
    "    dataset_copy = list(dataset)\n",
    "    fold_size = int(len(dataset)/n_folds)\n",
    "    for _ in range(n_folds):\n",
    "        fold = list()\n",
    "        while len(fold) < fold_size:\n",
    "            index = randrange(len(dataset_copy))\n",
    "            fold.append(dataset_copy.pop(index))\n",
    "        dataset_split.append(fold)\n",
    "        return dataset_split"
   ]
  },
  {
   "cell_type": "code",
   "execution_count": 14,
   "metadata": {},
   "outputs": [],
   "source": [
    "#calculate root mean square error\n",
    "def rmse_metric(actual,predicted):\n",
    "    sum_error = 0.0\n",
    "    for i in range(len(actual)):\n",
    "        prediction_error = predicted[i] - actual[i]\n",
    "        sum_error += (prediction_error **2)\n",
    "        mean_error = sum_error / float(len(actual))\n",
    "        return sqrt(mean_error)"
   ]
  },
  {
   "cell_type": "code",
   "execution_count": 15,
   "metadata": {},
   "outputs": [],
   "source": [
    "#evaluate on algorithm using a cross validation split\n",
    "def evaluate_algorithm(dataset, algorithm, n_folds, *args):\n",
    "    folds =  cross_validation_split(dataset,n_folds)\n",
    "    scores = list()\n",
    "    for fold in folds:\n",
    "        train_set = list(folds)\n",
    "        train_set.remove(fold)\n",
    "        train_set = sum(train_set, [])\n",
    "        test_set = list()\n",
    "        for row in fold:\n",
    "            row_copy = list(row)\n",
    "            test_set.append(row_copy)\n",
    "            row_copy[-1] = None\n",
    "        predicted = algorithm(train_set, test_set, *args)\n",
    "        actual = [row[-1] for row in fold]\n",
    "        rmse = rmse_metric(actual, predicted)\n",
    "        scores.append(rmse)\n",
    "    return scores"
   ]
  },
  {
   "cell_type": "code",
   "execution_count": 16,
   "metadata": {},
   "outputs": [],
   "source": [
    "#make a prediction with coefficient\n",
    "def predict(row, coefficients):\n",
    "    yhat = coefficients[0]\n",
    "    for i in range(len(row)-1):\n",
    "        yhat += coefficients[i + 1] * row[i]\n",
    "        return yhat"
   ]
  },
  {
   "cell_type": "code",
   "execution_count": 17,
   "metadata": {},
   "outputs": [],
   "source": [
    "#linear regression algorithm with stochastic gradient descent\n",
    "def linear_regression_sgd(train, test, l_rate, n_epach):\n",
    "    predictions = list()\n",
    "    coef = coefficients_sgd(train, l_rate, n_epach)\n",
    "    for row in test:\n",
    "        yhat = predict(row,coef)\n",
    "        predictions.append(yhat)\n",
    "\n",
    "    return(predictions)\n",
    "        "
   ]
  },
  {
   "cell_type": "code",
   "execution_count": 18,
   "metadata": {},
   "outputs": [
    {
     "name": "stdout",
     "output_type": "stream",
     "text": [
      "Expected=1.000, predicted=4.000\n",
      "Expected=3.000, predicted=8.000\n",
      "Expected=3.000, predicted=16.000\n",
      "Expected=2.000, predicted=12.000\n",
      "Expected=5.000, predicted=20.000\n"
     ]
    }
   ],
   "source": [
    "dataset = [[1,1], [2,3], [4,3],[3,2],[5,5]]\n",
    "coef = [0,4,0,8]\n",
    "\n",
    "for row in dataset:\n",
    "    yhat = predict(row,coef)\n",
    "    print(\"Expected=%.3f, predicted=%.3f\" %(row[-1],yhat))"
   ]
  },
  {
   "cell_type": "code",
   "execution_count": 19,
   "metadata": {},
   "outputs": [],
   "source": [
    "#Estimate Linear regression\n",
    "def coefficient_sgd(train, l_rate, n_epoch):\n",
    "    coef = [0.0 for i in range(len(train[0]))]\n",
    "    for epoch in range(n_epoch):\n",
    "        sum_error = 0\n",
    "        for row in train:\n",
    "            yhat = predict(row, coef)\n",
    "            error = yhat - row[-1]\n",
    "            sum_error =+ error**2\n",
    "            coef[0] = coef[0] - l_rate * error\n",
    "            for i in range (len(row)-1):\n",
    "                coef[0] = coef[i+1] - l_rate * error * row[i]\n",
    "        print('>epoch=%d, lrate=%.3f, error=%.3f' %(epoch, l_rate, sum_error))\n",
    "    return coef\n",
    "    "
   ]
  },
  {
   "cell_type": "code",
   "execution_count": 20,
   "metadata": {},
   "outputs": [
    {
     "name": "stdout",
     "output_type": "stream",
     "text": [
      ">epoch=0, lrate=0.001, error=24.940\n",
      ">epoch=1, lrate=0.001, error=24.940\n",
      ">epoch=2, lrate=0.001, error=24.940\n",
      ">epoch=3, lrate=0.001, error=24.940\n",
      ">epoch=4, lrate=0.001, error=24.940\n",
      ">epoch=5, lrate=0.001, error=24.940\n",
      ">epoch=6, lrate=0.001, error=24.940\n",
      ">epoch=7, lrate=0.001, error=24.940\n",
      ">epoch=8, lrate=0.001, error=24.940\n",
      ">epoch=9, lrate=0.001, error=24.940\n",
      "[0.024970179640117003, 0.0]\n"
     ]
    }
   ],
   "source": [
    "dataset = [[1,1],[2,3],[4,3],[3,2],[5,5]]\n",
    "l_rate = 0.001\n",
    "n_epoch = 10\n",
    "coef = coefficient_sgd(dataset, l_rate, n_epoch)\n",
    "print(coef)"
   ]
  },
  {
   "cell_type": "code",
   "execution_count": 30,
   "metadata": {},
   "outputs": [
    {
     "ename": "TypeError",
     "evalue": "dataset_minmax() takes 1 positional argument but 2 were given",
     "output_type": "error",
     "traceback": [
      "\u001b[1;31m---------------------------------------------------------------------------\u001b[0m",
      "\u001b[1;31mTypeError\u001b[0m                                 Traceback (most recent call last)",
      "\u001b[1;32mc:\\Users\\cmupenzi\\Desktop\\AUCA\\Machine Learning\\MachineLearning.ipynb Cell 14\u001b[0m line \u001b[0;36m1\n\u001b[0;32m      <a href='vscode-notebook-cell:/c%3A/Users/cmupenzi/Desktop/AUCA/Machine%20Learning/MachineLearning.ipynb#X16sZmlsZQ%3D%3D?line=7'>8</a>\u001b[0m \u001b[39mfor\u001b[39;00m i \u001b[39min\u001b[39;00m \u001b[39mrange\u001b[39m(\u001b[39mlen\u001b[39m(dataset[\u001b[39m0\u001b[39m])):\n\u001b[0;32m      <a href='vscode-notebook-cell:/c%3A/Users/cmupenzi/Desktop/AUCA/Machine%20Learning/MachineLearning.ipynb#X16sZmlsZQ%3D%3D?line=8'>9</a>\u001b[0m     str_colmn_to_float(dataset, i)\n\u001b[1;32m---> <a href='vscode-notebook-cell:/c%3A/Users/cmupenzi/Desktop/AUCA/Machine%20Learning/MachineLearning.ipynb#X16sZmlsZQ%3D%3D?line=9'>10</a>\u001b[0m     minmax \u001b[39m=\u001b[39m dataset_minmax(dataset, minmax)\n\u001b[0;32m     <a href='vscode-notebook-cell:/c%3A/Users/cmupenzi/Desktop/AUCA/Machine%20Learning/MachineLearning.ipynb#X16sZmlsZQ%3D%3D?line=10'>11</a>\u001b[0m normalize_dataset(dataset, minmax)\n\u001b[0;32m     <a href='vscode-notebook-cell:/c%3A/Users/cmupenzi/Desktop/AUCA/Machine%20Learning/MachineLearning.ipynb#X16sZmlsZQ%3D%3D?line=12'>13</a>\u001b[0m \u001b[39m#evaluate algo\u001b[39;00m\n",
      "\u001b[1;31mTypeError\u001b[0m: dataset_minmax() takes 1 positional argument but 2 were given"
     ]
    }
   ],
   "source": [
    "#load data and prepare data\n",
    "filename = 'C:\\\\Users\\\\cmupenzi\\\\Desktop\\\\AUCA\\Machine Learning\\\\winequality-white.csv'\n",
    "dataset = load_csv(filename)\n",
    "dataset\n",
    "dataset_minmax(dataset)\n",
    "\n",
    "#string to float\n",
    "for i in range(len(dataset[0])):\n",
    "    str_colmn_to_float(dataset, i)\n",
    "    minmax = dataset_minmax(dataset, minmax)\n",
    "normalize_dataset(dataset, minmax)\n",
    "\n",
    "#evaluate algo\n",
    "\n",
    "n_folds = 5\n",
    "l_rate = 0.01\n",
    "n_epoch = 50\n",
    "scores = evaluate_algorithm(dataset, linear_regression_sgd, n_folds, l_rate,n_epoch)\n",
    "print('Scores: %s' % scores)\n",
    "print('mean RMSE: %.3f' % (sum(scores)/float(len(scores))))\n"
   ]
  }
 ],
 "metadata": {
  "kernelspec": {
   "display_name": "base",
   "language": "python",
   "name": "python3"
  },
  "language_info": {
   "codemirror_mode": {
    "name": "ipython",
    "version": 3
   },
   "file_extension": ".py",
   "mimetype": "text/x-python",
   "name": "python",
   "nbconvert_exporter": "python",
   "pygments_lexer": "ipython3",
   "version": "3.11.3"
  }
 },
 "nbformat": 4,
 "nbformat_minor": 2
}
